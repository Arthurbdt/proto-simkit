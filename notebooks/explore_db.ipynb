{
 "cells": [
  {
   "cell_type": "code",
   "execution_count": 1,
   "id": "067c4cd4",
   "metadata": {},
   "outputs": [],
   "source": [
    "import duckdb\n",
    "import os\n",
    "\n",
    "# Construct the path to your database relative to the notebook location\n",
    "DB_PATH = os.path.join(\"..\", \"data\", \"simulation.db\")\n",
    "\n",
    "# Connect to the DuckDB database\n",
    "con = duckdb.connect(DB_PATH)"
   ]
  },
  {
   "cell_type": "code",
   "execution_count": 3,
   "id": "9917cb30",
   "metadata": {},
   "outputs": [
    {
     "name": "stdout",
     "output_type": "stream",
     "text": [
      "   order_id  arrival_time  start_pick_time  end_pick_time picker_id\n",
      "0         0           2.0              2.0            7.0  Picker-1\n",
      "1         1           4.0              4.0            9.0  Picker-2\n",
      "2         2           6.0              6.0           11.0  Picker-3\n",
      "3         3           8.0              8.0           13.0  Picker-1\n",
      "4         4          10.0             10.0           15.0  Picker-2\n",
      "5         5          12.0             12.0           17.0  Picker-3\n",
      "6         6          14.0             14.0           19.0  Picker-1\n",
      "7         7          16.0             16.0           21.0  Picker-2\n",
      "8         8          18.0             18.0           23.0  Picker-3\n",
      "9         9          20.0             20.0           25.0  Picker-1\n",
      "10       10          22.0             22.0           27.0  Picker-2\n",
      "11       11          24.0             24.0           29.0  Picker-3\n",
      "12       12          26.0             26.0           31.0  Picker-1\n",
      "13       13          28.0             28.0           33.0  Picker-2\n",
      "14       14          30.0             30.0           35.0  Picker-3\n",
      "15       15          32.0             32.0           37.0  Picker-1\n",
      "16       16          34.0             34.0           39.0  Picker-2\n",
      "17       17          36.0             36.0           41.0  Picker-3\n",
      "18       18          38.0             38.0           43.0  Picker-1\n",
      "19       19          40.0             40.0           45.0  Picker-2\n",
      "20       20          42.0             42.0           47.0  Picker-3\n",
      "21       21          44.0             44.0           49.0  Picker-1\n",
      "22       22          46.0             46.0           51.0  Picker-2\n",
      "23       23          48.0             48.0           53.0  Picker-3\n",
      "24       24          50.0             50.0           55.0  Picker-1\n",
      "25       25          52.0             52.0           57.0  Picker-2\n",
      "26       26          54.0             54.0           59.0  Picker-3\n",
      "27       27          56.0             56.0           61.0  Picker-1\n",
      "28       28          58.0             58.0           63.0  Picker-2\n",
      "29       29          60.0             60.0           65.0  Picker-3\n",
      "30       30          62.0             62.0           67.0  Picker-1\n",
      "31       31          64.0             64.0           69.0  Picker-2\n",
      "32       32          66.0             66.0           71.0  Picker-3\n",
      "33       33          68.0             68.0           73.0  Picker-1\n",
      "34       34          70.0             70.0           75.0  Picker-2\n",
      "35       35          72.0             72.0           77.0  Picker-3\n",
      "36       36          74.0             74.0           79.0  Picker-1\n",
      "37       37          76.0             76.0           81.0  Picker-2\n",
      "38       38          78.0             78.0           83.0  Picker-3\n",
      "39       39          80.0             80.0           85.0  Picker-1\n",
      "40       40          82.0             82.0           87.0  Picker-2\n",
      "41       41          84.0             84.0           89.0  Picker-3\n",
      "42       42          86.0             86.0           91.0  Picker-1\n",
      "43       43          88.0             88.0           93.0  Picker-2\n",
      "44       44          90.0             90.0           95.0  Picker-3\n",
      "45       45          92.0             92.0           97.0  Picker-1\n",
      "46       46          94.0             94.0           99.0  Picker-2\n",
      "47       47          96.0             96.0          101.0  Picker-3\n",
      "48       48          98.0             98.0          103.0  Picker-1\n",
      "49       49         100.0            100.0          105.0  Picker-2\n",
      "50       50         102.0            102.0          107.0  Picker-3\n",
      "51       51         104.0            104.0          109.0  Picker-1\n",
      "52       52         106.0            106.0          111.0  Picker-2\n",
      "53       53         108.0            108.0          113.0  Picker-3\n",
      "54       54         110.0            110.0          115.0  Picker-1\n",
      "55       55         112.0            112.0          117.0  Picker-2\n",
      "56       56         114.0            114.0          119.0  Picker-3\n",
      "57       57         116.0            116.0            NaN  Picker-1\n",
      "58       58         118.0            118.0            NaN  Picker-2\n"
     ]
    }
   ],
   "source": [
    "import pandas as pd\n",
    "df = con.execute(\"SELECT * FROM order_events\").fetchdf()\n",
    "print(df)"
   ]
  },
  {
   "cell_type": "code",
   "execution_count": 17,
   "id": "9a4de0e2",
   "metadata": {},
   "outputs": [],
   "source": [
    "cycle_time_query = \"\"\"\n",
    "SELECT\n",
    "    AVG(end_pick_time - arrival_time)\n",
    "FROM order_events\n",
    "WHERE end_pick_time IS NOT NULL \n",
    "\"\"\"\n",
    "\n",
    "workload_query = \"\"\"\n",
    "SELECT\n",
    "    picker_id,\n",
    "    COUNT(order_id)\n",
    "FROM order_events\n",
    "GROUP BY picker_id\n",
    "\"\"\""
   ]
  },
  {
   "cell_type": "code",
   "execution_count": 18,
   "id": "62dce3ac",
   "metadata": {},
   "outputs": [
    {
     "name": "stdout",
     "output_type": "stream",
     "text": [
      "   avg((end_pick_time - arrival_time))\n",
      "0                                  5.0\n"
     ]
    }
   ],
   "source": [
    "print(con.execute(cycle_time_query).fetchdf())"
   ]
  },
  {
   "cell_type": "code",
   "execution_count": 20,
   "id": "c52fe0b5",
   "metadata": {},
   "outputs": [
    {
     "name": "stdout",
     "output_type": "stream",
     "text": [
      "  picker_id  count(order_id)\n",
      "0  Picker-3               19\n",
      "1  Picker-2               20\n",
      "2  Picker-1               20\n"
     ]
    }
   ],
   "source": [
    "print(con.execute(workload_query).fetchdf())\n",
    "con.close()"
   ]
  }
 ],
 "metadata": {
  "kernelspec": {
   "display_name": "sim-env",
   "language": "python",
   "name": "python3"
  },
  "language_info": {
   "codemirror_mode": {
    "name": "ipython",
    "version": 3
   },
   "file_extension": ".py",
   "mimetype": "text/x-python",
   "name": "python",
   "nbconvert_exporter": "python",
   "pygments_lexer": "ipython3",
   "version": "3.10.7"
  }
 },
 "nbformat": 4,
 "nbformat_minor": 5
}
