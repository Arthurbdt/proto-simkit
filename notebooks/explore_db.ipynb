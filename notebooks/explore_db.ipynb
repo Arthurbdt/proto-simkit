{
 "cells": [
  {
   "cell_type": "code",
   "execution_count": 1,
   "id": "067c4cd4",
   "metadata": {},
   "outputs": [],
   "source": [
    "import duckdb\n",
    "import pandas as pd\n",
    "import os\n",
    "\n",
    "# Construct the path to your database relative to the notebook location\n",
    "DB_PATH = os.path.join(\"..\", \"data\", \"simulation.db\")\n",
    "\n",
    "# Connect to the DuckDB database\n",
    "con = duckdb.connect(DB_PATH)"
   ]
  },
  {
   "cell_type": "code",
   "execution_count": 39,
   "id": "9917cb30",
   "metadata": {},
   "outputs": [
    {
     "data": {
      "text/html": [
       "<div>\n",
       "<style scoped>\n",
       "    .dataframe tbody tr th:only-of-type {\n",
       "        vertical-align: middle;\n",
       "    }\n",
       "\n",
       "    .dataframe tbody tr th {\n",
       "        vertical-align: top;\n",
       "    }\n",
       "\n",
       "    .dataframe thead th {\n",
       "        text-align: right;\n",
       "    }\n",
       "</style>\n",
       "<table border=\"1\" class=\"dataframe\">\n",
       "  <thead>\n",
       "    <tr style=\"text-align: right;\">\n",
       "      <th></th>\n",
       "      <th>order_id</th>\n",
       "      <th>arrival_time</th>\n",
       "      <th>due_date</th>\n",
       "      <th>start_pick_time</th>\n",
       "      <th>end_pick_time</th>\n",
       "      <th>picker_id</th>\n",
       "    </tr>\n",
       "  </thead>\n",
       "  <tbody>\n",
       "    <tr>\n",
       "      <th>0</th>\n",
       "      <td>0</td>\n",
       "      <td>2.040121</td>\n",
       "      <td>65.041412</td>\n",
       "      <td>2.040121</td>\n",
       "      <td>7.040121</td>\n",
       "      <td>Picker-1</td>\n",
       "    </tr>\n",
       "    <tr>\n",
       "      <th>1</th>\n",
       "      <td>1</td>\n",
       "      <td>2.683369</td>\n",
       "      <td>89.468658</td>\n",
       "      <td>2.683369</td>\n",
       "      <td>7.683369</td>\n",
       "      <td>Picker-2</td>\n",
       "    </tr>\n",
       "    <tr>\n",
       "      <th>2</th>\n",
       "      <td>2</td>\n",
       "      <td>5.350554</td>\n",
       "      <td>146.554489</td>\n",
       "      <td>7.040121</td>\n",
       "      <td>12.040120</td>\n",
       "      <td>Picker-1</td>\n",
       "    </tr>\n",
       "    <tr>\n",
       "      <th>3</th>\n",
       "      <td>3</td>\n",
       "      <td>9.805130</td>\n",
       "      <td>80.237793</td>\n",
       "      <td>9.805130</td>\n",
       "      <td>14.805130</td>\n",
       "      <td>Picker-2</td>\n",
       "    </tr>\n",
       "    <tr>\n",
       "      <th>4</th>\n",
       "      <td>4</td>\n",
       "      <td>10.901222</td>\n",
       "      <td>74.476891</td>\n",
       "      <td>12.040120</td>\n",
       "      <td>17.040121</td>\n",
       "      <td>Picker-1</td>\n",
       "    </tr>\n",
       "  </tbody>\n",
       "</table>\n",
       "</div>"
      ],
      "text/plain": [
       "  order_id  arrival_time    due_date  start_pick_time  end_pick_time picker_id\n",
       "0        0      2.040121   65.041412         2.040121       7.040121  Picker-1\n",
       "1        1      2.683369   89.468658         2.683369       7.683369  Picker-2\n",
       "2        2      5.350554  146.554489         7.040121      12.040120  Picker-1\n",
       "3        3      9.805130   80.237793         9.805130      14.805130  Picker-2\n",
       "4        4     10.901222   74.476891        12.040120      17.040121  Picker-1"
      ]
     },
     "execution_count": 39,
     "metadata": {},
     "output_type": "execute_result"
    }
   ],
   "source": [
    "# display orders table\n",
    "df = con.execute(\"SELECT * FROM order_events\").fetchdf()\n",
    "df.head(5)"
   ]
  },
  {
   "cell_type": "code",
   "execution_count": 7,
   "id": "9a4de0e2",
   "metadata": {},
   "outputs": [],
   "source": [
    "cycle_time_query = \"\"\"\n",
    "SELECT\n",
    "    AVG(end_pick_time - arrival_time) as time_in_system\n",
    "FROM order_events\n",
    "WHERE end_pick_time IS NOT NULL \n",
    "\"\"\"\n",
    "\n",
    "workload_query = \"\"\"\n",
    "SELECT\n",
    "    picker_id,\n",
    "    COUNT(order_id)\n",
    "FROM order_events\n",
    "WHERE picker_id IS NOT NULL\n",
    "GROUP BY picker_id\n",
    "\"\"\"\n"
   ]
  },
  {
   "cell_type": "code",
   "execution_count": 8,
   "id": "62dce3ac",
   "metadata": {},
   "outputs": [
    {
     "data": {
      "text/html": [
       "<div>\n",
       "<style scoped>\n",
       "    .dataframe tbody tr th:only-of-type {\n",
       "        vertical-align: middle;\n",
       "    }\n",
       "\n",
       "    .dataframe tbody tr th {\n",
       "        vertical-align: top;\n",
       "    }\n",
       "\n",
       "    .dataframe thead th {\n",
       "        text-align: right;\n",
       "    }\n",
       "</style>\n",
       "<table border=\"1\" class=\"dataframe\">\n",
       "  <thead>\n",
       "    <tr style=\"text-align: right;\">\n",
       "      <th></th>\n",
       "      <th>time_in_system</th>\n",
       "    </tr>\n",
       "  </thead>\n",
       "  <tbody>\n",
       "    <tr>\n",
       "      <th>0</th>\n",
       "      <td>8.747141</td>\n",
       "    </tr>\n",
       "  </tbody>\n",
       "</table>\n",
       "</div>"
      ],
      "text/plain": [
       "   time_in_system\n",
       "0        8.747141"
      ]
     },
     "execution_count": 8,
     "metadata": {},
     "output_type": "execute_result"
    }
   ],
   "source": [
    "con.execute(cycle_time_query).fetchdf()"
   ]
  },
  {
   "cell_type": "code",
   "execution_count": 9,
   "id": "c52fe0b5",
   "metadata": {},
   "outputs": [
    {
     "data": {
      "text/html": [
       "<div>\n",
       "<style scoped>\n",
       "    .dataframe tbody tr th:only-of-type {\n",
       "        vertical-align: middle;\n",
       "    }\n",
       "\n",
       "    .dataframe tbody tr th {\n",
       "        vertical-align: top;\n",
       "    }\n",
       "\n",
       "    .dataframe thead th {\n",
       "        text-align: right;\n",
       "    }\n",
       "</style>\n",
       "<table border=\"1\" class=\"dataframe\">\n",
       "  <thead>\n",
       "    <tr style=\"text-align: right;\">\n",
       "      <th></th>\n",
       "      <th>picker_id</th>\n",
       "      <th>count(order_id)</th>\n",
       "    </tr>\n",
       "  </thead>\n",
       "  <tbody>\n",
       "    <tr>\n",
       "      <th>0</th>\n",
       "      <td>Picker-1</td>\n",
       "      <td>82</td>\n",
       "    </tr>\n",
       "    <tr>\n",
       "      <th>1</th>\n",
       "      <td>Picker-2</td>\n",
       "      <td>81</td>\n",
       "    </tr>\n",
       "    <tr>\n",
       "      <th>2</th>\n",
       "      <td>Picker-3</td>\n",
       "      <td>81</td>\n",
       "    </tr>\n",
       "  </tbody>\n",
       "</table>\n",
       "</div>"
      ],
      "text/plain": [
       "  picker_id  count(order_id)\n",
       "0  Picker-1               82\n",
       "1  Picker-2               81\n",
       "2  Picker-3               81"
      ]
     },
     "execution_count": 9,
     "metadata": {},
     "output_type": "execute_result"
    }
   ],
   "source": [
    "con.execute(workload_query).fetchdf()\n"
   ]
  },
  {
   "cell_type": "code",
   "execution_count": 5,
   "id": "483ff3ca",
   "metadata": {},
   "outputs": [
    {
     "data": {
      "text/html": [
       "<div>\n",
       "<style scoped>\n",
       "    .dataframe tbody tr th:only-of-type {\n",
       "        vertical-align: middle;\n",
       "    }\n",
       "\n",
       "    .dataframe tbody tr th {\n",
       "        vertical-align: top;\n",
       "    }\n",
       "\n",
       "    .dataframe thead th {\n",
       "        text-align: right;\n",
       "    }\n",
       "</style>\n",
       "<table border=\"1\" class=\"dataframe\">\n",
       "  <thead>\n",
       "    <tr style=\"text-align: right;\">\n",
       "      <th></th>\n",
       "      <th>shift_id</th>\n",
       "      <th>shift_name</th>\n",
       "      <th>start_time</th>\n",
       "      <th>end_time</th>\n",
       "    </tr>\n",
       "  </thead>\n",
       "  <tbody>\n",
       "    <tr>\n",
       "      <th>0</th>\n",
       "      <td>1</td>\n",
       "      <td>Day Shift</td>\n",
       "      <td>0.0</td>\n",
       "      <td>480.0</td>\n",
       "    </tr>\n",
       "    <tr>\n",
       "      <th>1</th>\n",
       "      <td>2</td>\n",
       "      <td>Night Shift</td>\n",
       "      <td>480.0</td>\n",
       "      <td>960.0</td>\n",
       "    </tr>\n",
       "  </tbody>\n",
       "</table>\n",
       "</div>"
      ],
      "text/plain": [
       "   shift_id   shift_name  start_time  end_time\n",
       "0         1    Day Shift         0.0     480.0\n",
       "1         2  Night Shift       480.0     960.0"
      ]
     },
     "execution_count": 5,
     "metadata": {},
     "output_type": "execute_result"
    }
   ],
   "source": [
    "con.execute(\"SELECT * FROM shifts\").fetchdf()"
   ]
  },
  {
   "cell_type": "code",
   "execution_count": 10,
   "id": "462ca520",
   "metadata": {},
   "outputs": [],
   "source": [
    "con.close()"
   ]
  }
 ],
 "metadata": {
  "kernelspec": {
   "display_name": "sim-env",
   "language": "python",
   "name": "python3"
  },
  "language_info": {
   "codemirror_mode": {
    "name": "ipython",
    "version": 3
   },
   "file_extension": ".py",
   "mimetype": "text/x-python",
   "name": "python",
   "nbconvert_exporter": "python",
   "pygments_lexer": "ipython3",
   "version": "3.10.7"
  }
 },
 "nbformat": 4,
 "nbformat_minor": 5
}
