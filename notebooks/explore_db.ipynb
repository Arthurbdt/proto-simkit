{
 "cells": [
  {
   "cell_type": "code",
   "execution_count": 26,
   "id": "067c4cd4",
   "metadata": {},
   "outputs": [],
   "source": [
    "import duckdb\n",
    "import pandas as pd\n",
    "import os\n",
    "\n",
    "# Construct the path to your database relative to the notebook location\n",
    "DB_PATH = os.path.join(\"..\", \"data\", \"simulation.db\")\n",
    "\n",
    "# Connect to the DuckDB database\n",
    "conn = duckdb.connect(DB_PATH)"
   ]
  },
  {
   "cell_type": "code",
   "execution_count": 2,
   "id": "9917cb30",
   "metadata": {},
   "outputs": [
    {
     "data": {
      "text/html": [
       "<div>\n",
       "<style scoped>\n",
       "    .dataframe tbody tr th:only-of-type {\n",
       "        vertical-align: middle;\n",
       "    }\n",
       "\n",
       "    .dataframe tbody tr th {\n",
       "        vertical-align: top;\n",
       "    }\n",
       "\n",
       "    .dataframe thead th {\n",
       "        text-align: right;\n",
       "    }\n",
       "</style>\n",
       "<table border=\"1\" class=\"dataframe\">\n",
       "  <thead>\n",
       "    <tr style=\"text-align: right;\">\n",
       "      <th></th>\n",
       "      <th>order_id</th>\n",
       "      <th>arrival_time</th>\n",
       "      <th>due_date</th>\n",
       "      <th>start_pick_time</th>\n",
       "      <th>end_pick_time</th>\n",
       "      <th>picker_id</th>\n",
       "    </tr>\n",
       "  </thead>\n",
       "  <tbody>\n",
       "    <tr>\n",
       "      <th>0</th>\n",
       "      <td>0</td>\n",
       "      <td>2.040121</td>\n",
       "      <td>65.041412</td>\n",
       "      <td>2.040121</td>\n",
       "      <td>8.040120</td>\n",
       "      <td>Picker 1</td>\n",
       "    </tr>\n",
       "    <tr>\n",
       "      <th>1</th>\n",
       "      <td>1</td>\n",
       "      <td>2.683369</td>\n",
       "      <td>89.468658</td>\n",
       "      <td>2.683369</td>\n",
       "      <td>7.683369</td>\n",
       "      <td>Picker 2</td>\n",
       "    </tr>\n",
       "    <tr>\n",
       "      <th>2</th>\n",
       "      <td>2</td>\n",
       "      <td>5.350554</td>\n",
       "      <td>146.554489</td>\n",
       "      <td>7.683369</td>\n",
       "      <td>12.683369</td>\n",
       "      <td>Picker 2</td>\n",
       "    </tr>\n",
       "    <tr>\n",
       "      <th>3</th>\n",
       "      <td>3</td>\n",
       "      <td>9.805130</td>\n",
       "      <td>80.237793</td>\n",
       "      <td>9.805130</td>\n",
       "      <td>15.805130</td>\n",
       "      <td>Picker 1</td>\n",
       "    </tr>\n",
       "    <tr>\n",
       "      <th>4</th>\n",
       "      <td>4</td>\n",
       "      <td>10.901222</td>\n",
       "      <td>74.476891</td>\n",
       "      <td>12.683369</td>\n",
       "      <td>17.683369</td>\n",
       "      <td>Picker 2</td>\n",
       "    </tr>\n",
       "  </tbody>\n",
       "</table>\n",
       "</div>"
      ],
      "text/plain": [
       "  order_id  arrival_time    due_date  start_pick_time  end_pick_time picker_id\n",
       "0        0      2.040121   65.041412         2.040121       8.040120  Picker 1\n",
       "1        1      2.683369   89.468658         2.683369       7.683369  Picker 2\n",
       "2        2      5.350554  146.554489         7.683369      12.683369  Picker 2\n",
       "3        3      9.805130   80.237793         9.805130      15.805130  Picker 1\n",
       "4        4     10.901222   74.476891        12.683369      17.683369  Picker 2"
      ]
     },
     "execution_count": 2,
     "metadata": {},
     "output_type": "execute_result"
    }
   ],
   "source": [
    "# display orders table\n",
    "df = conn.execute(\"SELECT * FROM order_events\").fetchdf()\n",
    "df.head(5)"
   ]
  },
  {
   "cell_type": "code",
   "execution_count": 27,
   "id": "9a4de0e2",
   "metadata": {},
   "outputs": [],
   "source": [
    "cycle_time_query = \"\"\"\n",
    "SELECT\n",
    "    AVG(end_pick_time - arrival_time) as time_in_system\n",
    "FROM order_events\n",
    "WHERE end_pick_time IS NOT NULL \n",
    "\"\"\"\n",
    "\n",
    "workload_query = \"\"\"\n",
    "SELECT\n",
    "    a.picker_id,\n",
    "    c.shift_name,\n",
    "    d.skill_name,\n",
    "    COUNT(a.order_id) AS picked_orders\n",
    "FROM \n",
    "    order_events a\n",
    "    INNER JOIN pickers b ON a.picker_id = b.picker_id\n",
    "    INNER JOIN shifts c ON b.shift_id = c.shift_id\n",
    "    INNER JOIN skills d ON b.skill_id = d.skill_id\n",
    "WHERE a.picker_id IS NOT NULL\n",
    "GROUP BY a.picker_id, c.shift_name, d.skill_name\n",
    "ORDER BY COUNT(a.order_id) DESC\n",
    "\"\"\"\n"
   ]
  },
  {
   "cell_type": "code",
   "execution_count": null,
   "id": "62dce3ac",
   "metadata": {},
   "outputs": [
    {
     "data": {
      "text/html": [
       "<div>\n",
       "<style scoped>\n",
       "    .dataframe tbody tr th:only-of-type {\n",
       "        vertical-align: middle;\n",
       "    }\n",
       "\n",
       "    .dataframe tbody tr th {\n",
       "        vertical-align: top;\n",
       "    }\n",
       "\n",
       "    .dataframe thead th {\n",
       "        text-align: right;\n",
       "    }\n",
       "</style>\n",
       "<table border=\"1\" class=\"dataframe\">\n",
       "  <thead>\n",
       "    <tr style=\"text-align: right;\">\n",
       "      <th></th>\n",
       "      <th>picker_id</th>\n",
       "      <th>shift_name</th>\n",
       "      <th>skill_name</th>\n",
       "      <th>picked_orders</th>\n",
       "    </tr>\n",
       "  </thead>\n",
       "  <tbody>\n",
       "    <tr>\n",
       "      <th>0</th>\n",
       "      <td>Picker 3</td>\n",
       "      <td>Night Shift</td>\n",
       "      <td>Expert</td>\n",
       "      <td>120</td>\n",
       "    </tr>\n",
       "    <tr>\n",
       "      <th>1</th>\n",
       "      <td>Picker 2</td>\n",
       "      <td>Day Shift</td>\n",
       "      <td>Standard</td>\n",
       "      <td>95</td>\n",
       "    </tr>\n",
       "    <tr>\n",
       "      <th>2</th>\n",
       "      <td>Picker 1</td>\n",
       "      <td>Day Shift</td>\n",
       "      <td>Junior</td>\n",
       "      <td>79</td>\n",
       "    </tr>\n",
       "  </tbody>\n",
       "</table>\n",
       "</div>"
      ],
      "text/plain": [
       "  picker_id   shift_name skill_name  picked_orders\n",
       "0  Picker 3  Night Shift     Expert            120\n",
       "1  Picker 2    Day Shift   Standard             95\n",
       "2  Picker 1    Day Shift     Junior             79"
      ]
     },
     "execution_count": 28,
     "metadata": {},
     "output_type": "execute_result"
    }
   ],
   "source": [
    "conn.execute(cycle_time_query).fetchdf()"
   ]
  },
  {
   "cell_type": "code",
   "execution_count": 23,
   "id": "c52fe0b5",
   "metadata": {},
   "outputs": [
    {
     "data": {
      "text/html": [
       "<div>\n",
       "<style scoped>\n",
       "    .dataframe tbody tr th:only-of-type {\n",
       "        vertical-align: middle;\n",
       "    }\n",
       "\n",
       "    .dataframe tbody tr th {\n",
       "        vertical-align: top;\n",
       "    }\n",
       "\n",
       "    .dataframe thead th {\n",
       "        text-align: right;\n",
       "    }\n",
       "</style>\n",
       "<table border=\"1\" class=\"dataframe\">\n",
       "  <thead>\n",
       "    <tr style=\"text-align: right;\">\n",
       "      <th></th>\n",
       "      <th>picker_id</th>\n",
       "      <th>shift_name</th>\n",
       "      <th>skill_name</th>\n",
       "      <th>picked_orders</th>\n",
       "    </tr>\n",
       "  </thead>\n",
       "  <tbody>\n",
       "    <tr>\n",
       "      <th>0</th>\n",
       "      <td>Picker 1</td>\n",
       "      <td>Day Shift</td>\n",
       "      <td>Junior</td>\n",
       "      <td>79</td>\n",
       "    </tr>\n",
       "    <tr>\n",
       "      <th>1</th>\n",
       "      <td>Picker 2</td>\n",
       "      <td>Day Shift</td>\n",
       "      <td>Standard</td>\n",
       "      <td>95</td>\n",
       "    </tr>\n",
       "    <tr>\n",
       "      <th>2</th>\n",
       "      <td>Picker 3</td>\n",
       "      <td>Night Shift</td>\n",
       "      <td>Expert</td>\n",
       "      <td>120</td>\n",
       "    </tr>\n",
       "  </tbody>\n",
       "</table>\n",
       "</div>"
      ],
      "text/plain": [
       "  picker_id   shift_name skill_name  picked_orders\n",
       "0  Picker 1    Day Shift     Junior             79\n",
       "1  Picker 2    Day Shift   Standard             95\n",
       "2  Picker 3  Night Shift     Expert            120"
      ]
     },
     "execution_count": 23,
     "metadata": {},
     "output_type": "execute_result"
    }
   ],
   "source": [
    "conn.execute(workload_query).fetchdf()\n"
   ]
  },
  {
   "cell_type": "code",
   "execution_count": 24,
   "id": "483ff3ca",
   "metadata": {},
   "outputs": [
    {
     "data": {
      "text/html": [
       "<div>\n",
       "<style scoped>\n",
       "    .dataframe tbody tr th:only-of-type {\n",
       "        vertical-align: middle;\n",
       "    }\n",
       "\n",
       "    .dataframe tbody tr th {\n",
       "        vertical-align: top;\n",
       "    }\n",
       "\n",
       "    .dataframe thead th {\n",
       "        text-align: right;\n",
       "    }\n",
       "</style>\n",
       "<table border=\"1\" class=\"dataframe\">\n",
       "  <thead>\n",
       "    <tr style=\"text-align: right;\">\n",
       "      <th></th>\n",
       "      <th>shift_id</th>\n",
       "      <th>shift_name</th>\n",
       "      <th>start_time</th>\n",
       "      <th>end_time</th>\n",
       "    </tr>\n",
       "  </thead>\n",
       "  <tbody>\n",
       "    <tr>\n",
       "      <th>0</th>\n",
       "      <td>1</td>\n",
       "      <td>Day Shift</td>\n",
       "      <td>0.0</td>\n",
       "      <td>480.0</td>\n",
       "    </tr>\n",
       "    <tr>\n",
       "      <th>1</th>\n",
       "      <td>2</td>\n",
       "      <td>Night Shift</td>\n",
       "      <td>480.0</td>\n",
       "      <td>960.0</td>\n",
       "    </tr>\n",
       "  </tbody>\n",
       "</table>\n",
       "</div>"
      ],
      "text/plain": [
       "   shift_id   shift_name  start_time  end_time\n",
       "0         1    Day Shift         0.0     480.0\n",
       "1         2  Night Shift       480.0     960.0"
      ]
     },
     "execution_count": 24,
     "metadata": {},
     "output_type": "execute_result"
    }
   ],
   "source": [
    "conn.execute(\"SELECT * FROM shifts\").fetchdf()"
   ]
  },
  {
   "cell_type": "code",
   "execution_count": 10,
   "id": "a7738aff",
   "metadata": {},
   "outputs": [
    {
     "data": {
      "text/html": [
       "<div>\n",
       "<style scoped>\n",
       "    .dataframe tbody tr th:only-of-type {\n",
       "        vertical-align: middle;\n",
       "    }\n",
       "\n",
       "    .dataframe tbody tr th {\n",
       "        vertical-align: top;\n",
       "    }\n",
       "\n",
       "    .dataframe thead th {\n",
       "        text-align: right;\n",
       "    }\n",
       "</style>\n",
       "<table border=\"1\" class=\"dataframe\">\n",
       "  <thead>\n",
       "    <tr style=\"text-align: right;\">\n",
       "      <th></th>\n",
       "      <th>skill_id</th>\n",
       "      <th>skill_name</th>\n",
       "      <th>speed_factor</th>\n",
       "    </tr>\n",
       "  </thead>\n",
       "  <tbody>\n",
       "    <tr>\n",
       "      <th>0</th>\n",
       "      <td>1</td>\n",
       "      <td>Junior</td>\n",
       "      <td>1.2</td>\n",
       "    </tr>\n",
       "    <tr>\n",
       "      <th>1</th>\n",
       "      <td>2</td>\n",
       "      <td>Standard</td>\n",
       "      <td>1.0</td>\n",
       "    </tr>\n",
       "    <tr>\n",
       "      <th>2</th>\n",
       "      <td>3</td>\n",
       "      <td>Expert</td>\n",
       "      <td>0.8</td>\n",
       "    </tr>\n",
       "  </tbody>\n",
       "</table>\n",
       "</div>"
      ],
      "text/plain": [
       "   skill_id skill_name  speed_factor\n",
       "0         1     Junior           1.2\n",
       "1         2   Standard           1.0\n",
       "2         3     Expert           0.8"
      ]
     },
     "execution_count": 10,
     "metadata": {},
     "output_type": "execute_result"
    }
   ],
   "source": [
    "conn.execute(\"SELECT * FROM skills\").fetchdf()"
   ]
  },
  {
   "cell_type": "code",
   "execution_count": null,
   "id": "462ca520",
   "metadata": {},
   "outputs": [],
   "source": [
    "conn.close()"
   ]
  }
 ],
 "metadata": {
  "kernelspec": {
   "display_name": "sim-env",
   "language": "python",
   "name": "python3"
  },
  "language_info": {
   "codemirror_mode": {
    "name": "ipython",
    "version": 3
   },
   "file_extension": ".py",
   "mimetype": "text/x-python",
   "name": "python",
   "nbconvert_exporter": "python",
   "pygments_lexer": "ipython3",
   "version": "3.10.7"
  }
 },
 "nbformat": 4,
 "nbformat_minor": 5
}
