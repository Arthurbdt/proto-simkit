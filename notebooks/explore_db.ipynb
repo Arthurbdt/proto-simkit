{
 "cells": [
  {
   "cell_type": "code",
   "execution_count": 2,
   "id": "067c4cd4",
   "metadata": {},
   "outputs": [],
   "source": [
    "import duckdb\n",
    "import pandas as pd\n",
    "import os\n",
    "\n",
    "# Construct the path to your database relative to the notebook location\n",
    "DB_PATH = os.path.join(\"..\", \"data\", \"simulation.db\")\n",
    "\n",
    "# Connect to the DuckDB database\n",
    "conn = duckdb.connect(DB_PATH)"
   ]
  },
  {
   "cell_type": "code",
   "execution_count": null,
   "id": "9917cb30",
   "metadata": {},
   "outputs": [],
   "source": [
    "# display orders table\n",
    "df = conn.execute(\"SELECT * FROM order_events\").fetchdf()\n",
    "df.head(5)"
   ]
  },
  {
   "cell_type": "code",
   "execution_count": null,
   "id": "9a4de0e2",
   "metadata": {},
   "outputs": [],
   "source": [
    "cycle_time_query = \"\"\"\n",
    "SELECT\n",
    "    AVG(end_pick_time - arrival_time) as time_in_system\n",
    "FROM order_events\n",
    "WHERE end_pick_time IS NOT NULL \n",
    "\"\"\"\n",
    "\n",
    "workload_query = \"\"\"\n",
    "SELECT\n",
    "    a.picker_id,\n",
    "    c.shift_name,\n",
    "    d.skill_name,\n",
    "    COUNT(a.order_id) AS picked_orders\n",
    "FROM \n",
    "    order_events a\n",
    "    INNER JOIN pickers b ON a.picker_id = b.picker_id\n",
    "    INNER JOIN shifts c ON b.shift_id = c.shift_id\n",
    "    INNER JOIN skills d ON b.skill_id = d.skill_id\n",
    "WHERE a.picker_id IS NOT NULL\n",
    "GROUP BY a.picker_id, c.shift_name, d.skill_name\n",
    "ORDER BY COUNT(a.order_id) DESC\n",
    "\"\"\"\n"
   ]
  },
  {
   "cell_type": "code",
   "execution_count": null,
   "id": "62dce3ac",
   "metadata": {},
   "outputs": [],
   "source": [
    "conn.execute(cycle_time_query).fetchdf()"
   ]
  },
  {
   "cell_type": "code",
   "execution_count": null,
   "id": "c52fe0b5",
   "metadata": {},
   "outputs": [],
   "source": [
    "conn.execute(workload_query).fetchdf()\n"
   ]
  },
  {
   "cell_type": "code",
   "execution_count": null,
   "id": "483ff3ca",
   "metadata": {},
   "outputs": [],
   "source": [
    "conn.execute(\"SELECT * FROM shifts\").fetchdf()"
   ]
  },
  {
   "cell_type": "code",
   "execution_count": null,
   "id": "a7738aff",
   "metadata": {},
   "outputs": [],
   "source": [
    "conn.execute(\"SELECT * FROM skills\").fetchdf()"
   ]
  },
  {
   "cell_type": "code",
   "execution_count": null,
   "id": "ebd6c615",
   "metadata": {},
   "outputs": [],
   "source": [
    "conn.execute(\"SELECT * FROM picker_states LIMIT 20\").fetchdf()"
   ]
  },
  {
   "cell_type": "code",
   "execution_count": null,
   "id": "825ae644",
   "metadata": {},
   "outputs": [],
   "source": [
    "conn.execute(\"\"\"\n",
    "SELECT\n",
    "    picker_id,\n",
    "    state,\n",
    "    timestamp AS start_time,\n",
    "    LEAD(timestamp) OVER (PARTITION BY picker_id ORDER BY timestamp) AS end_time\n",
    "FROM picker_states\n",
    "ORDER BY picker_id, timestamp;\n",
    "\"\"\").fetch_df()"
   ]
  },
  {
   "cell_type": "code",
   "execution_count": null,
   "id": "e2a6b21d",
   "metadata": {},
   "outputs": [],
   "source": [
    "conn.execute(\"\"\"\n",
    "    WITH states AS (\n",
    "        SELECT\n",
    "            picker_id,\n",
    "            state,\n",
    "            timestamp AS start_time,\n",
    "            LEAD(timestamp) OVER (PARTITION BY picker_id ORDER BY timestamp) AS end_time,\n",
    "            LEAD(timestamp) OVER (PARTITION BY picker_id ORDER BY timestamp) - timestamp AS duration\n",
    "        FROM picker_states\n",
    "        ),\n",
    "    states_duration AS (                      \n",
    "        SELECT\n",
    "            picker_id,\n",
    "            state,\n",
    "            SUM(duration) as state_duration\n",
    "        FROM states\n",
    "        GROUP BY picker_id, state\n",
    "        )\n",
    "    SELECT \n",
    "        picker_id,\n",
    "        state,\n",
    "        state_duration,\n",
    "        SUM(state_duration) OVER (PARTITION BY picker_id) AS total_duration,\n",
    "        ROUND((state_duration / SUM(state_duration) OVER (PARTITION BY picker_id)) * 100, 2) AS prop     \n",
    "    FROM states_duration\n",
    "\"\"\").fetch_df()"
   ]
  },
  {
   "cell_type": "code",
   "execution_count": null,
   "id": "a8424ea4",
   "metadata": {},
   "outputs": [],
   "source": [
    "conn.execute(\"\"\"\n",
    "WITH events AS (\n",
    "    SELECT arrival_time AS t, +1 AS delta FROM order_events\n",
    "    UNION ALL\n",
    "    SELECT end_pick_time AS t, -1 AS delta FROM order_events\n",
    ")\n",
    "SELECT\n",
    "    t,\n",
    "    SUM(delta) OVER (ORDER BY t ROWS BETWEEN UNBOUNDED PRECEDING AND CURRENT ROW) AS orders_in_system\n",
    "FROM events\n",
    "WHERE t IS NOT NULL\n",
    "ORDER BY t\n",
    "\"\"\").fetch_df()"
   ]
  },
  {
   "cell_type": "code",
   "execution_count": null,
   "id": "0609e15e",
   "metadata": {},
   "outputs": [],
   "source": [
    "conn.execute(\"\"\"\n",
    "    SELECT\n",
    "        SUM(CASE WHEN end_pick_time <= due_date THEN 1 ELSE 0 END) * 1.0 / COUNT(order_id) AS prop_on_time\n",
    "    FROM order_events\n",
    "    WHERE end_pick_time IS NOT NULL\n",
    "\"\"\").fetch_df()"
   ]
  },
  {
   "cell_type": "code",
   "execution_count": 6,
   "id": "462ca520",
   "metadata": {},
   "outputs": [],
   "source": [
    "conn.close()"
   ]
  }
 ],
 "metadata": {
  "kernelspec": {
   "display_name": "sim-env",
   "language": "python",
   "name": "python3"
  },
  "language_info": {
   "codemirror_mode": {
    "name": "ipython",
    "version": 3
   },
   "file_extension": ".py",
   "mimetype": "text/x-python",
   "name": "python",
   "nbconvert_exporter": "python",
   "pygments_lexer": "ipython3",
   "version": "3.10.7"
  }
 },
 "nbformat": 4,
 "nbformat_minor": 5
}
